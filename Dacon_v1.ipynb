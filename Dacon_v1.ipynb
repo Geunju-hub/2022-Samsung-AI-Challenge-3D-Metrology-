{
  "nbformat": 4,
  "nbformat_minor": 0,
  "metadata": {
    "colab": {
      "name": "Dacon_v1.ipynb",
      "provenance": [],
      "collapsed_sections": [],
      "include_colab_link": true
    },
    "kernelspec": {
      "name": "python3",
      "display_name": "Python 3"
    },
    "language_info": {
      "name": "python"
    },
    "accelerator": "GPU",
    "gpuClass": "standard"
  },
  "cells": [
    {
      "cell_type": "markdown",
      "metadata": {
        "id": "view-in-github",
        "colab_type": "text"
      },
      "source": [
        "<a href=\"https://colab.research.google.com/github/Geunju-hub/2022-Samsung-AI-Challenge-3D-Metrology-/blob/main/Dacon_v1.ipynb\" target=\"_parent\"><img src=\"https://colab.research.google.com/assets/colab-badge.svg\" alt=\"Open In Colab\"/></a>"
      ]
    },
    {
      "cell_type": "code",
      "source": [
        "# 드라이브 마운트\n",
        "from google.colab import drive\n",
        "drive.mount('/content/drive') "
      ],
      "metadata": {
        "colab": {
          "base_uri": "https://localhost:8080/"
        },
        "id": "f41ysX1bmnyt",
        "outputId": "252e5df7-8a12-40b5-a163-cfb040d295c5"
      },
      "execution_count": 2,
      "outputs": [
        {
          "output_type": "stream",
          "name": "stdout",
          "text": [
            "Drive already mounted at /content/drive; to attempt to forcibly remount, call drive.mount(\"/content/drive\", force_remount=True).\n"
          ]
        }
      ]
    },
    {
      "cell_type": "code",
      "source": [
        "# 필요 라이브러리 불러오기\n",
        "import tensorflow as tf\n",
        "import pandas as pd\n",
        "import numpy as np\n",
        "import cv2\n",
        "import matplotlib.pyplot as plt\n",
        "from tensorflow.keras import Sequential\n",
        "from tensorflow.keras.layers import Dense, Conv2D, MaxPool2D, Flatten"
      ],
      "metadata": {
        "id": "CPEpAp07GF8h"
      },
      "execution_count": 3,
      "outputs": []
    },
    {
      "cell_type": "code",
      "source": [
        "from google.colab.patches import cv2_imshow"
      ],
      "metadata": {
        "id": "ahFfeM0iGQAx"
      },
      "execution_count": 4,
      "outputs": []
    },
    {
      "cell_type": "code",
      "execution_count": 5,
      "metadata": {
        "id": "1FF0jQtaemGj"
      },
      "outputs": [],
      "source": [
        "import os"
      ]
    },
    {
      "cell_type": "code",
      "source": [
        "!ls"
      ],
      "metadata": {
        "colab": {
          "base_uri": "https://localhost:8080/"
        },
        "id": "CTX4MVrQeqzf",
        "outputId": "20f98dcc-0ff9-43bd-b7c8-cc5a631b667a"
      },
      "execution_count": 6,
      "outputs": [
        {
          "output_type": "stream",
          "name": "stdout",
          "text": [
            "drive  sample_data  sample_submission.zip  simulation_data  test  train\n"
          ]
        }
      ]
    },
    {
      "cell_type": "code",
      "source": [
        "# 디렉토리 바꿔주기 -> google drive 안에서 알집 풀기 위함.\n",
        "!cd /content/drive/MyDrive/Dacon"
      ],
      "metadata": {
        "id": "_9OZkSm0e52Y"
      },
      "execution_count": 7,
      "outputs": []
    },
    {
      "cell_type": "code",
      "source": [
        "!ls"
      ],
      "metadata": {
        "id": "R1U-aBH5fLJQ",
        "colab": {
          "base_uri": "https://localhost:8080/"
        },
        "outputId": "042f1bb2-0488-49c4-aaf8-ca6508cfaf2e"
      },
      "execution_count": 8,
      "outputs": [
        {
          "output_type": "stream",
          "name": "stdout",
          "text": [
            "drive  sample_data  sample_submission.zip  simulation_data  test  train\n"
          ]
        }
      ]
    },
    {
      "cell_type": "code",
      "source": [
        "!unzip -qq /content/drive/MyDrive/Dacon/open.zip"
      ],
      "metadata": {
        "colab": {
          "base_uri": "https://localhost:8080/"
        },
        "id": "hGwHiBWdSsbq",
        "outputId": "dd0f7f5f-899d-49fb-ea59-dd3e8cc2cb71"
      },
      "execution_count": 9,
      "outputs": [
        {
          "output_type": "stream",
          "name": "stdout",
          "text": [
            "replace sample_submission.zip? [y]es, [n]o, [A]ll, [N]one, [r]ename: A\n"
          ]
        }
      ]
    },
    {
      "cell_type": "code",
      "source": [
        "# 서브폴더별로 맨 앞에 있는 이미지파일 Train_Data로 옮기기\n",
        "root_dir = './train/SEM'\n",
        "Train_List = []\n",
        "Train_Data = []\n",
        "for (root, dirs, files) in os.walk(root_dir):\n",
        "  count = 0\n",
        "  for name in files:\n",
        "    count +=1\n",
        "    Train_List.append(os.path.join(root, name))\n",
        "    img = cv2.imread(os.path.join(root,name))\n",
        "    Train_Data.append(img)\n",
        "    if(count==1):\n",
        "      break;"
      ],
      "metadata": {
        "id": "PZz6uYSLCnEv"
      },
      "execution_count": 10,
      "outputs": []
    },
    {
      "cell_type": "code",
      "source": [
        "# 중복 확인을 위해 set 설정 후 갯수 측정\n",
        "len(set(Train_List))"
      ],
      "metadata": {
        "colab": {
          "base_uri": "https://localhost:8080/"
        },
        "id": "p9XNP9vUFbwt",
        "outputId": "6c8ffb35-3cc0-4646-97e1-27c32b6de782"
      },
      "execution_count": 11,
      "outputs": [
        {
          "output_type": "execute_result",
          "data": {
            "text/plain": [
              "2060"
            ]
          },
          "metadata": {},
          "execution_count": 11
        }
      ]
    },
    {
      "cell_type": "code",
      "source": [
        "# 숫자 이상한 경우 찾아서 빼주기\n",
        "for List in Train_List:\n",
        "  if List.find('.ipynb') != -1:\n",
        "    idx = Train_List.index(List)\n",
        "    print(idx)\n",
        "    print(List)\n",
        "    Train_List.remove(List)\n",
        "    Train_Data.pop(idx)"
      ],
      "metadata": {
        "colab": {
          "base_uri": "https://localhost:8080/"
        },
        "id": "HMlgcSdET9BU",
        "outputId": "2094af86-312d-4d50-d7c0-48212dea9942"
      },
      "execution_count": 12,
      "outputs": [
        {
          "output_type": "stream",
          "name": "stdout",
          "text": [
            "1096\n",
            "./train/SEM/Depth_140/site_00000/.ipynb_checkpoints/SEM_000165-checkpoint.png\n"
          ]
        }
      ]
    },
    {
      "cell_type": "code",
      "source": [
        "#이미지 잘 나오나 확인해보기\n",
        "for i in range(10):\n",
        "  cv2_imshow(Train_Data[i])"
      ],
      "metadata": {
        "id": "AYRDxcirFvEE",
        "colab": {
          "base_uri": "https://localhost:8080/",
          "height": 737
        },
        "outputId": "4aa702b9-16b8-49e6-ab87-81bc79cd79ab"
      },
      "execution_count": 13,
      "outputs": [
        {
          "output_type": "display_data",
          "data": {
            "text/plain": [
              "<PIL.Image.Image image mode=RGB size=48x72 at 0x7FBB889B4490>"
            ],
            "image/png": "[encoded data removed]"
          },
          "metadata": {}
        },
        {
          "output_type": "display_data",
          "data": {
            "text/plain": [
              "<PIL.Image.Image image mode=RGB size=48x72 at 0x7FBB889B43D0>"
            ],
            "image/png": "[encoded data removed]"
          },
          "metadata": {}
        },
        {
          "output_type": "display_data",
          "data": {
            "text/plain": [
              "<PIL.Image.Image image mode=RGB size=48x72 at 0x7FBB889B4A10>"
            ],
            "image/png": "[encoded data removed]"
          },
          "metadata": {}
        },
        {
          "output_type": "display_data",
          "data": {
            "text/plain": [
              "<PIL.Image.Image image mode=RGB size=48x72 at 0x7FBB88258F10>"
            ],
            "image/png": "[encoded data removed]"
          },
          "metadata": {}
        },
        {
          "output_type": "display_data",
          "data": {
            "text/plain": [
              "<PIL.Image.Image image mode=RGB size=48x72 at 0x7FBB889B4A10>"
            ],
            "image/png": "[encoded data removed]"
          },
          "metadata": {}
        },
        {
          "output_type": "display_data",
          "data": {
            "text/plain": [
              "<PIL.Image.Image image mode=RGB size=48x72 at 0x7FBB88258F50>"
            ],
            "image/png": "[encoded data removed]"
          },
          "metadata": {}
        },
        {
          "output_type": "display_data",
          "data": {
            "text/plain": [
              "<PIL.Image.Image image mode=RGB size=48x72 at 0x7FBB889B4A10>"
            ],
            "image/png": "[encoded data removed]"
          },
          "metadata": {}
        },
        {
          "output_type": "display_data",
          "data": {
            "text/plain": [
              "<PIL.Image.Image image mode=RGB size=48x72 at 0x7FBB889B4A10>"
            ],
            "image/png": "[encoded data removed]"
          },
          "metadata": {}
        },
        {
          "output_type": "display_data",
          "data": {
            "text/plain": [
              "<PIL.Image.Image image mode=RGB size=48x72 at 0x7FBB88262E90>"
            ],
            "image/png": "[encoded data removed]"
          },
          "metadata": {}
        },
        {
          "output_type": "display_data",
          "data": {
            "text/plain": [
              "<PIL.Image.Image image mode=RGB size=48x72 at 0x7FBB8831D4D0>"
            ],
            "image/png": "[encoded data removed]"
          },
          "metadata": {}
        }
      ]
    },
    {
      "cell_type": "code",
      "source": [
        "# 학습을 위해 numpy배열로 변환\n",
        "X_train = np.array(Train_Data)"
      ],
      "metadata": {
        "id": "oQA3Fs8UHbjn"
      },
      "execution_count": 14,
      "outputs": []
    },
    {
      "cell_type": "code",
      "source": [
        "# 학습 전 shape 확인\n",
        "X_train.shape"
      ],
      "metadata": {
        "id": "Rwxck-wOJsau",
        "colab": {
          "base_uri": "https://localhost:8080/"
        },
        "outputId": "e1946157-387a-4db9-8e5b-d8a02ec92a08"
      },
      "execution_count": 15,
      "outputs": [
        {
          "output_type": "execute_result",
          "data": {
            "text/plain": [
              "(2059, 72, 48, 3)"
            ]
          },
          "metadata": {},
          "execution_count": 15
        }
      ]
    },
    {
      "cell_type": "code",
      "source": [
        "# categorical로 판별하기 위해 숫자 바꿔주기\n",
        "labeldict = {0:110, 1:120, 2:130, 3:140}\n",
        "reversedict = {110:0, 120:1, 130:2, 140:3}\n",
        "y_train = pd.read_csv(\"./train/average_depth.csv\")\n",
        "y_train = y_train.sort_values(by=\"0\",ascending = True)\n",
        "y_train[\"target\"] = 0\n",
        "for i in range(len(y_train)):\n",
        "  temp = y_train[\"0\"][i][6:9]\n",
        "  temp = int(temp)\n",
        "  y_train[\"target\"][i] = reversedict[temp]\n",
        "\n",
        "y_train[\"target\"].astype(\"str\")"
      ],
      "metadata": {
        "id": "zNPOnzIuLINC",
        "colab": {
          "base_uri": "https://localhost:8080/"
        },
        "outputId": "74453b20-452c-450b-f782-af7bf0490cd7"
      },
      "execution_count": 16,
      "outputs": [
        {
          "output_type": "stream",
          "name": "stderr",
          "text": [
            "/usr/local/lib/python3.7/dist-packages/ipykernel_launcher.py:10: SettingWithCopyWarning: \n",
            "A value is trying to be set on a copy of a slice from a DataFrame\n",
            "\n",
            "See the caveats in the documentation: https://pandas.pydata.org/pandas-docs/stable/user_guide/indexing.html#returning-a-view-versus-a-copy\n",
            "  # Remove the CWD from sys.path while we load stuff.\n"
          ]
        },
        {
          "output_type": "execute_result",
          "data": {
            "text/plain": [
              "1252    0\n",
              "1131    0\n",
              "1063    0\n",
              "1293    0\n",
              "1135    0\n",
              "       ..\n",
              "418     3\n",
              "445     3\n",
              "475     3\n",
              "58      3\n",
              "235     3\n",
              "Name: target, Length: 2059, dtype: object"
            ]
          },
          "metadata": {},
          "execution_count": 16
        }
      ]
    },
    {
      "cell_type": "code",
      "source": [
        "# 간단한 모델 구현\n",
        "model = Sequential()\n",
        "model.add(Conv2D(32,3, padding = 'same',input_shape = (72,48,3)))\n",
        "model.add(MaxPool2D())\n",
        "model.add(Flatten())\n",
        "model.add(Dense(4,activation = 'softmax'))\n",
        "\n",
        "model.summary()"
      ],
      "metadata": {
        "id": "fCa_0cRZI3LH",
        "colab": {
          "base_uri": "https://localhost:8080/"
        },
        "outputId": "29de781b-53c4-4ec9-9d4c-66111f12f525"
      },
      "execution_count": 17,
      "outputs": [
        {
          "output_type": "stream",
          "name": "stdout",
          "text": [
            "Model: \"sequential\"\n",
            "_________________________________________________________________\n",
            " Layer (type)                Output Shape              Param #   \n",
            "=================================================================\n",
            " conv2d (Conv2D)             (None, 72, 48, 32)        896       \n",
            "                                                                 \n",
            " max_pooling2d (MaxPooling2D  (None, 36, 24, 32)       0         \n",
            " )                                                               \n",
            "                                                                 \n",
            " flatten (Flatten)           (None, 27648)             0         \n",
            "                                                                 \n",
            " dense (Dense)               (None, 4)                 110596    \n",
            "                                                                 \n",
            "=================================================================\n",
            "Total params: 111,492\n",
            "Trainable params: 111,492\n",
            "Non-trainable params: 0\n",
            "_________________________________________________________________\n"
          ]
        }
      ]
    },
    {
      "cell_type": "code",
      "source": [
        "# loss, optimizer, metrics 정함\n",
        "model.compile(optimizer = tf.keras.optimizers.Adam(learning_rate = 1e-4), loss = 'categorical_crossentropy', metrics = ['accuracy'])"
      ],
      "metadata": {
        "id": "1ZENmc-MJYVn"
      },
      "execution_count": 18,
      "outputs": []
    },
    {
      "cell_type": "code",
      "source": [
        "Y_train = y_train[\"target\"].values"
      ],
      "metadata": {
        "id": "1_tSMSdfYD0x"
      },
      "execution_count": 19,
      "outputs": []
    },
    {
      "cell_type": "code",
      "source": [
        "print(Y_train)"
      ],
      "metadata": {
        "id": "fzKO3DqAYK1F",
        "colab": {
          "base_uri": "https://localhost:8080/"
        },
        "outputId": "aa3d08d8-7807-496b-f0b2-8cf1f05acb9c"
      },
      "execution_count": 20,
      "outputs": [
        {
          "output_type": "stream",
          "name": "stdout",
          "text": [
            "[0 0 0 ... 3 3 3]\n"
          ]
        }
      ]
    },
    {
      "cell_type": "code",
      "source": [
        "# one-hot encoding 후 확인해보기\n",
        "y_train= tf.keras.utils.to_categorical(Y_train,num_classes = 4)\n",
        "print(y_train.shape)"
      ],
      "metadata": {
        "id": "FNRUUjjUVJw6",
        "colab": {
          "base_uri": "https://localhost:8080/"
        },
        "outputId": "ad4e8b55-d8df-41e3-e1e4-4139e9ad5ecd"
      },
      "execution_count": 21,
      "outputs": [
        {
          "output_type": "stream",
          "name": "stdout",
          "text": [
            "(2059, 4)\n"
          ]
        }
      ]
    },
    {
      "cell_type": "code",
      "source": [
        "# model 학습시키기\n",
        "hist = model.fit(X_train,y_train, epochs = 10,validation_split = 0.2)"
      ],
      "metadata": {
        "id": "qIJxM7KyJRQL",
        "colab": {
          "base_uri": "https://localhost:8080/"
        },
        "outputId": "1bfdc11b-ecaf-4974-bca0-6a3a3790af7d"
      },
      "execution_count": 23,
      "outputs": [
        {
          "output_type": "stream",
          "name": "stdout",
          "text": [
            "Epoch 1/10\n",
            "52/52 [==============================] - 7s 126ms/step - loss: 2.4946 - accuracy: 0.7790 - val_loss: 17.0729 - val_accuracy: 0.0000e+00\n",
            "Epoch 2/10\n",
            "52/52 [==============================] - 6s 108ms/step - loss: 2.1885 - accuracy: 0.7753 - val_loss: 5.9736 - val_accuracy: 0.1359\n",
            "Epoch 3/10\n",
            "52/52 [==============================] - 5s 97ms/step - loss: 2.1232 - accuracy: 0.8069 - val_loss: 0.3556 - val_accuracy: 0.9029\n",
            "Epoch 4/10\n",
            "52/52 [==============================] - 6s 118ms/step - loss: 2.4526 - accuracy: 0.7602 - val_loss: 0.1032 - val_accuracy: 0.9830\n",
            "Epoch 5/10\n",
            "52/52 [==============================] - 5s 90ms/step - loss: 2.6147 - accuracy: 0.7608 - val_loss: 11.9150 - val_accuracy: 0.0024\n",
            "Epoch 6/10\n",
            "52/52 [==============================] - 5s 87ms/step - loss: 1.5374 - accuracy: 0.8136 - val_loss: 42.9436 - val_accuracy: 0.0000e+00\n",
            "Epoch 7/10\n",
            "52/52 [==============================] - 4s 86ms/step - loss: 2.2257 - accuracy: 0.8142 - val_loss: 5.7254 - val_accuracy: 0.0995\n",
            "Epoch 8/10\n",
            "52/52 [==============================] - 5s 90ms/step - loss: 1.9143 - accuracy: 0.7693 - val_loss: 7.0239 - val_accuracy: 0.0437\n",
            "Epoch 9/10\n",
            "52/52 [==============================] - 5s 99ms/step - loss: 0.9473 - accuracy: 0.8658 - val_loss: 0.9686 - val_accuracy: 0.7694\n",
            "Epoch 10/10\n",
            "52/52 [==============================] - 4s 78ms/step - loss: 1.0917 - accuracy: 0.8403 - val_loss: 0.3891 - val_accuracy: 0.9369\n"
          ]
        }
      ]
    }
  ]
}