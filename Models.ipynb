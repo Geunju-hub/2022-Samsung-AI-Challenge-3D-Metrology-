{
  "nbformat": 4,
  "nbformat_minor": 0,
  "metadata": {
    "colab": {
      "provenance": [],
      "collapsed_sections": []
    },
    "kernelspec": {
      "name": "python3",
      "display_name": "Python 3"
    },
    "language_info": {
      "name": "python"
    }
  },
  "cells": [
    {
      "cell_type": "markdown",
      "source": [
        "# 다양한 모델링 시도"
      ],
      "metadata": {
        "id": "xltP4NTeE-_L"
      }
    },
    {
      "cell_type": "markdown",
      "source": [
        "## Hyperparameter"
      ],
      "metadata": {
        "id": "JmZsa9xCDLTK"
      }
    },
    {
      "cell_type": "code",
      "source": [
        "CFG = {\n",
        "    'WIDTH':48,\n",
        "    'HEIGHT':72,\n",
        "    'EPOCHS':25,\n",
        "    'LEARNING_RATE':1e-3,\n",
        "    'BATCH_SIZE':128,\n",
        "    'SEED':41\n",
        "}"
      ],
      "metadata": {
        "id": "k0H6v11yDKvU"
      },
      "execution_count": null,
      "outputs": []
    },
    {
      "cell_type": "markdown",
      "source": [
        "## AutoEncoder 변형\n",
        "* BottleNeck 구조의 encoder, decoder 사이에 autoencoder를 추가"
      ],
      "metadata": {
        "id": "RLEojKksFXT8"
      }
    },
    {
      "cell_type": "code",
      "source": [
        "class Autoencoder_plus(nn.Module):\n",
        "    def __init__(self):\n",
        "        super(Autoencoder_plus, self).__init__()\n",
        "        self.encoder = nn.Sequential(\n",
        "            nn.Linear(CFG['HEIGHT']*CFG['WIDTH'], 1024),\n",
        "            nn.BatchNorm1d(1024),\n",
        "            nn.ReLU(), \n",
        "            nn.Linear(1024, 512),\n",
        "            nn.BatchNorm1d(512),\n",
        "            nn.ReLU(),\n",
        "            nn.Linear(512, 256),\n",
        "            nn.BatchNorm1d(256),\n",
        "            nn.ReLU(),\n",
        "            nn.Linear(256, 128),\n",
        "            nn.BatchNorm1d(128),\n",
        "            nn.ReLU()\n",
        "        )\n",
        "        \n",
        "        self.middle = nn.Sequential(                                            # encoder, decoder 사이 autoencoder 추가\n",
        "            nn.Linear(128, 256),\n",
        "            nn.BatchNorm1d(256),\n",
        "            nn.ReLU(),\n",
        "            nn.Linear(256, 512),\n",
        "            nn.BatchNorm1d(512),\n",
        "            nn.ReLU(),\n",
        "            nn.Linear(512, 256),\n",
        "            nn.BatchNorm1d(256),\n",
        "            nn.ReLU(),\n",
        "            nn.Linear(256, 128),\n",
        "            nn.BatchNorm1d(128),\n",
        "            nn.ReLU())\n",
        "\n",
        "        self.decoder = nn.Sequential(\n",
        "            nn.Linear(128, 256),\n",
        "            nn.BatchNorm1d(256),\n",
        "            nn.ReLU(),\n",
        "            nn.Linear(256, 512),\n",
        "            nn.BatchNorm1d(512),\n",
        "            nn.ReLU(),\n",
        "            nn.Linear(512, 1024),\n",
        "            nn.BatchNorm1d(1024),\n",
        "            nn.ReLU(),\n",
        "            nn.Linear(1024, CFG['HEIGHT']*CFG['WIDTH']),\n",
        "        )\n",
        "        \n",
        "    def forward(self, x):\n",
        "        x = x.view(-1, CFG['HEIGHT']*CFG['WIDTH'])\n",
        "        x = self.encoder(x)\n",
        "        x = self.middle(x)\n",
        "        x = self.decoder(x)\n",
        "        x = x.view(-1, 1, CFG['HEIGHT'], CFG['WIDTH'])\n",
        "        return x"
      ],
      "metadata": {
        "id": "P6TO5Pw6FZiT"
      },
      "execution_count": null,
      "outputs": []
    },
    {
      "cell_type": "markdown",
      "source": [
        "## CNN Model1 → Conv1D + Decoder(linear) \n",
        "* 단면 단위의 정보가 중요하므로 이미지를 1차원으로 펴서 정보를 추출"
      ],
      "metadata": {
        "id": "pwQVK7tvCnEq"
      }
    },
    {
      "cell_type": "code",
      "execution_count": null,
      "metadata": {
        "id": "4i5qc8rHCjyJ"
      },
      "outputs": [],
      "source": [
        "class CNN_Model1(nn.Module):\n",
        "  def __init__(self):\n",
        "    super(CNN_Model1, self).__init__()\n",
        "    # Encoder\n",
        "    self.cnn_layer1 = nn.Sequential(nn.Conv1d(1, 128, kernel_size=3, stride=1),\n",
        "                                 nn.BatchNorm1d(128),\n",
        "                                 nn.ReLU(),\n",
        "                                 nn.MaxPool1d(2))\n",
        "    self.cnn_layer2 = nn.Sequential(nn.Conv1d(128, 64, kernel_size=3, stride=1),\n",
        "                                 nn.BatchNorm1d(64),\n",
        "                                 nn.ReLU(),\n",
        "                                 nn.MaxPool1d(2))\n",
        "    self.cnn_layer3 = nn.Sequential(nn.Conv1d(64, 1, kernel_size=3, stride=1),\n",
        "                                 nn.BatchNorm1d(1),\n",
        "                                 nn.ReLU())\n",
        "    \n",
        "    self.flatten = nn.Flatten()\n",
        "\n",
        "    # Decoder                                                      \n",
        "    self.decoder = nn.Sequential(\n",
        "            nn.Linear(860, 1024),\n",
        "            nn.BatchNorm1d(1024),\n",
        "            nn.ReLU(),\n",
        "            nn.Linear(1024, CFG['HEIGHT']*CFG['WIDTH']),\n",
        "        )\n",
        "    \n",
        "  def forward(self, x):\n",
        "    x = x.view(-1, 1, CFG['HEIGHT']*CFG['WIDTH'])\n",
        "    x = self.cnn_layer1(x)\n",
        "    x = self.cnn_layer2(x)\n",
        "    x = self.cnn_layer3(x)\n",
        "    x = self.flatten(x)\n",
        "    x = self.decoder(x)                             \n",
        "    x = x.view(-1, 1, CFG['HEIGHT'], CFG['WIDTH'])\n",
        "\n",
        "    return x "
      ]
    },
    {
      "cell_type": "markdown",
      "source": [
        "## CNN Model2 → Conv1D + ConvTranspose1D"
      ],
      "metadata": {
        "id": "ToETDcTsDUn9"
      }
    },
    {
      "cell_type": "code",
      "source": [
        "class CNN_Model2(nn.Module):\n",
        "  def __init__(self):\n",
        "    super(CNN_Model2, self).__init__()\n",
        "    # Encoder\n",
        "    self.cnn_layer1 = nn.Sequential(nn.Conv1d(in_channels=1, out_channels=256, kernel_size=5, stride=1, padding=2),\n",
        "                                    nn.BatchNorm1d(256),\n",
        "                                    nn.ReLU(),\n",
        "                                    nn.MaxPool1d(2,2))\n",
        "    self.cnn_layer2 = nn.Sequential(nn.Conv1d(in_channels=256, out_channels=128, kernel_size=5, stride=1, padding=2),\n",
        "                                    nn.BatchNorm1d(128),\n",
        "                                    nn.ReLU(),\n",
        "                                    nn.MaxPool1d(2,2))\n",
        "    self.cnn_layer3 = nn.Sequential(nn.Conv1d(in_channels=128, out_channels=64, kernel_size=5, stride=1, padding=2),\n",
        "                                    nn.BatchNorm1d(64),\n",
        "                                    nn.ReLU(),\n",
        "                                    nn.MaxPool1d(2,2))\n",
        "    \n",
        "    # Decoder\n",
        "    self.cnn_layer4 = nn.Sequential(nn.ConvTranspose1d(in_channels=64, out_channels=128, kernel_size=5, stride=2, padding=2),\n",
        "                                    nn.BatchNorm1d(128),\n",
        "                                    nn.ReLU())\n",
        "    self.cnn_layer5 = nn.Sequential(nn.ConvTranspose1d(in_channels=128, out_channels=256, kernel_size=5, stride=2, padding=2),\n",
        "                                    nn.BatchNorm1d(256),\n",
        "                                    nn.ReLU())\n",
        "    self.cnn_layer6 = nn.Sequential(nn.ConvTranspose1d(in_channels=256, out_channels=1, kernel_size=5, stride=2, padding=2),\n",
        "                                    nn.BatchNorm1d(1),\n",
        "                                    nn.ReLU(),\n",
        "                                    nn.Dropout(0.2))\n",
        "    self.dense = nn.Sequential(nn.Linear(3449, 3456),\n",
        "                               nn.ReLU(3456)\n",
        "                               )\n",
        "    \n",
        "  def forward(self, x):                                              \n",
        "    x = x.view(-1,1, CFG['HEIGHT']*CFG['WIDTH'])                                # 배치 크기, 채널, 높이 * 너비 = (128, 1, 72*48)                 \n",
        "    x = self.cnn_layer1(x)\n",
        "    x = self.cnn_layer2(x)\n",
        "    x = self.cnn_layer3(x)\n",
        "    x = self.cnn_layer4(x)\n",
        "    x = self.cnn_layer5(x)\n",
        "    x = self.cnn_layer6(x)\n",
        "    x = self.dense(x)\n",
        "    x = x.view(-1,1, CFG['HEIGHT'],CFG['WIDTH'])\n",
        "    return x"
      ],
      "metadata": {
        "id": "A_QuiXQTDZcH"
      },
      "execution_count": null,
      "outputs": []
    },
    {
      "cell_type": "markdown",
      "source": [
        "## CNN Model3 → Conv2D + ConvTranspose 2D\n",
        "* convolution layer로 이미지의 공간적인 정보를 추출"
      ],
      "metadata": {
        "id": "ayRcsL0LDy3U"
      }
    },
    {
      "cell_type": "code",
      "source": [
        "class CNN_Model3(nn.Module):\n",
        "  def __init__(self):\n",
        "    super(CNN_Model3, self).__init__()\n",
        "    self.encoder = nn.Sequential(nn.Conv2d(1, 256, kernel_size=4, stride=2, padding=1),\n",
        "                                 nn.BatchNorm2d(256),\n",
        "                                 nn.ReLU(),\n",
        "                                 nn.Conv2d(256, 512, kernel_size=4, stride=2, padding=1),\n",
        "                                 nn.BatchNorm2d(512),\n",
        "                                 nn.ReLU(),\n",
        "                                 nn.Conv2d(512, 1024, kernel_size=4, stride=2, padding=1),\n",
        "                                 nn.BatchNorm2d(1024),\n",
        "                                 nn.ReLU()                                           \n",
        "                                 )\n",
        "    \n",
        "    self.dropout = nn.Dropout(0.2)\n",
        "    \n",
        "    self.decoder = nn.Sequential(\n",
        "                                nn.ConvTranspose2d(1024, 512, kernel_size=4, stride=2, padding=1),\n",
        "                                nn.BatchNorm2d(512), \n",
        "                                nn.ReLU(),\n",
        "                                nn.ConvTranspose2d(512, 256, kernel_size=4, stride=2, padding=1),\n",
        "                                nn.BatchNorm2d(256), \n",
        "                                nn.ReLU(),\n",
        "                                nn.ConvTranspose2d(256, 1, kernel_size=4, stride=2, padding=1)                                \n",
        "                                )\n",
        "    \n",
        "  def forward(self, x):\n",
        "    #print('original', x.shape)        \n",
        "    x = self.encoder(x)\n",
        "    x = self.dropout(x)\n",
        "    #print('enc', x.shape)             \n",
        "    x = self.decoder(x)\n",
        "    #print(\"dec\", x.shape)\n",
        "    return x"
      ],
      "metadata": {
        "id": "Fi0aNmJJDzLo"
      },
      "execution_count": null,
      "outputs": []
    }
  ]
}