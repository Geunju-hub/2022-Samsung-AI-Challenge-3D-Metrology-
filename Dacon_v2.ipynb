{
  "nbformat": 4,
  "nbformat_minor": 0,
  "metadata": {
    "colab": {
      "name": "Dacon_v2.ipynb",
      "provenance": [],
      "collapsed_sections": [],
      "machine_shape": "hm",
      "include_colab_link": true
    },
    "kernelspec": {
      "name": "python3",
      "display_name": "Python 3"
    },
    "language_info": {
      "name": "python"
    },
    "accelerator": "GPU",
    "gpuClass": "standard"
  },
  "cells": [
    {
      "cell_type": "markdown",
      "metadata": {
        "id": "view-in-github",
        "colab_type": "text"
      },
      "source": [
        "<a href=\"https://colab.research.google.com/github/Geunju-hub/2022-Samsung-AI-Challenge-3D-Metrology-/blob/main/Dacon_v2.ipynb\" target=\"_parent\"><img src=\"https://colab.research.google.com/assets/colab-badge.svg\" alt=\"Open In Colab\"/></a>"
      ]
    },
    {
      "cell_type": "code",
      "source": [
        "# 드라이브 마운트\n",
        "from google.colab import drive\n",
        "drive.mount('/content/drive') "
      ],
      "metadata": {
        "colab": {
          "base_uri": "https://localhost:8080/"
        },
        "id": "f41ysX1bmnyt",
        "outputId": "cda3f6e0-3c8e-42bf-8e57-e0c44d44308f"
      },
      "execution_count": null,
      "outputs": [
        {
          "output_type": "stream",
          "name": "stdout",
          "text": [
            "Drive already mounted at /content/drive; to attempt to forcibly remount, call drive.mount(\"/content/drive\", force_remount=True).\n"
          ]
        }
      ]
    },
    {
      "cell_type": "code",
      "source": [
        "# 필요 라이브러리 불러오기\n",
        "import tensorflow as tf\n",
        "import pandas as pd\n",
        "import numpy as np\n",
        "import cv2\n",
        "import matplotlib.pyplot as plt\n",
        "from tensorflow.keras import Sequential\n",
        "from tensorflow.keras.layers import Dense, Conv2D, MaxPool2D, Flatten\n",
        "from tensorflow.keras.applications import inception_v3"
      ],
      "metadata": {
        "id": "CPEpAp07GF8h"
      },
      "execution_count": null,
      "outputs": []
    },
    {
      "cell_type": "code",
      "source": [
        "from google.colab.patches import cv2_imshow"
      ],
      "metadata": {
        "id": "ahFfeM0iGQAx"
      },
      "execution_count": null,
      "outputs": []
    },
    {
      "cell_type": "code",
      "execution_count": null,
      "metadata": {
        "id": "1FF0jQtaemGj"
      },
      "outputs": [],
      "source": [
        "import os"
      ]
    },
    {
      "cell_type": "code",
      "source": [
        "!ls"
      ],
      "metadata": {
        "colab": {
          "base_uri": "https://localhost:8080/"
        },
        "id": "CTX4MVrQeqzf",
        "outputId": "cedd8ed2-c12f-4000-c641-cf25f7a76479"
      },
      "execution_count": null,
      "outputs": [
        {
          "output_type": "stream",
          "name": "stdout",
          "text": [
            "drive  sample_data  sample_submission.zip  simulation_data  test  train\n"
          ]
        }
      ]
    },
    {
      "cell_type": "code",
      "source": [
        "# 디렉토리 바꿔주기 -> google drive 안에서 알집 풀기 위함.\n",
        "!cd /content/drive/MyDrive/Dacon"
      ],
      "metadata": {
        "id": "_9OZkSm0e52Y"
      },
      "execution_count": null,
      "outputs": []
    },
    {
      "cell_type": "code",
      "source": [
        "!ls"
      ],
      "metadata": {
        "id": "R1U-aBH5fLJQ",
        "colab": {
          "base_uri": "https://localhost:8080/"
        },
        "outputId": "c90c36c9-628c-4824-bff9-87d38e27d9f1"
      },
      "execution_count": null,
      "outputs": [
        {
          "output_type": "stream",
          "name": "stdout",
          "text": [
            "drive  sample_data  sample_submission.zip  simulation_data  test  train\n"
          ]
        }
      ]
    },
    {
      "cell_type": "code",
      "source": [
        "!unzip -qq /content/drive/MyDrive/Dacon/open.zip\n",
        "# google 공유 드라이브에 올렸기 때문에 다시 압축해제 할 필요 없음."
      ],
      "metadata": {
        "id": "hGwHiBWdSsbq",
        "colab": {
          "base_uri": "https://localhost:8080/"
        },
        "outputId": "6b047e73-0aae-4501-b1ff-cd2e154818d0"
      },
      "execution_count": null,
      "outputs": [
        {
          "output_type": "stream",
          "name": "stdout",
          "text": [
            "replace sample_submission.zip? [y]es, [n]o, [A]ll, [N]one, [r]ename: "
          ]
        }
      ]
    },
    {
      "cell_type": "code",
      "source": [
        "# 이미지 전처리 관련한 함수\n",
        "\n",
        "\n",
        "#log Transform\n",
        "def getlogtf(img):\n",
        "  img = img/255.0\n",
        "  c = 1.0\n",
        "  img = c * np.log(1 + img)\n",
        "  img = img * 255\n",
        "  return img\n",
        "\n",
        "\n",
        "#Gamma Transform(gamma 인자를 통해 밝기를 얼마나 밝게 할지 설정 가능)\n",
        "def getgammatf(img,gamma = 3):\n",
        "  img = img/255.0\n",
        "\n",
        "  img = img**(1/gamma)\n",
        "\n",
        "  img = img * 255\n",
        "  return img\n",
        "\n",
        "#Fourier Transform, 주의점 : 이미지가 다른 트랜스폼과 다르게 흑백(Grayscale)임, 데이터를 훈련시킬때 1채널로 훈련시켜야함\n",
        "def getftf(img):\n",
        "  img = cv2.cvtColor(img,cv2.COLOR_BGR2GRAY)\n",
        "  dft = cv2.dft(np.float32(img), flags=cv2.DFT_COMPLEX_OUTPUT)\n",
        "  dft_shift = np.fft.fftshift(dft)\n",
        "  out = 20*np.log(cv2.magnitude(dft_shift[:, :, 0], dft_shift[:, :, 1]))\n",
        "  return out\n",
        "\n",
        "#CLAHE, 푸리에와 마찬가지로 흑백 스케일임\n",
        "def getclahe(img):\n",
        "  img = cv2.cvtColor(img,cv2.COLOR_BGR2GRAY)\n",
        "  clahe = cv2.createCLAHE(clipLimit = 2.0, tileGridSize = (8,8))\n",
        "  out = clahe.apply(img)\n",
        "\n",
        "  return out\n",
        "\n",
        "\n",
        "def invert(img):\n",
        "  img = (255-img)\n",
        "  \n",
        "  return img"
      ],
      "metadata": {
        "id": "2cdG9xkb1mvU"
      },
      "execution_count": null,
      "outputs": []
    },
    {
      "cell_type": "code",
      "source": [
        "# 서브폴더별로 맨 앞에 있는 이미지파일 Train_Data로 옮기기\n",
        "\n",
        "root_dir = './train/SEM'\n",
        "Train_List = []\n",
        "Train_Data = []\n",
        "Y_train_List = [] # 총 train_data의 주소 : 어제 사용했던 y_train의 0번 컬럼처럼 만들기\n",
        "for (root, dirs, files) in os.walk(root_dir):\n",
        "  #count = 0\n",
        "  for name in files:\n",
        "    #count +=1\n",
        "    Train_List.append(os.path.join(root, name))\n",
        "    img = cv2.imread(os.path.join(root,name))\n",
        "    #img = getgammatf(img,8)\n",
        "    Train_Data.append(img)\n",
        "    Y_train_List.append(os.path.join(root,name))\n",
        "    #if(count==1):\n",
        "      #break;"
      ],
      "metadata": {
        "id": "PZz6uYSLCnEv"
      },
      "execution_count": null,
      "outputs": []
    },
    {
      "cell_type": "code",
      "source": [
        "Train_List[0]"
      ],
      "metadata": {
        "colab": {
          "base_uri": "https://localhost:8080/",
          "height": 35
        },
        "id": "pbp8B5Q9eYyt",
        "outputId": "a6b86787-1127-4e50-a48c-c5fef5462ea8"
      },
      "execution_count": null,
      "outputs": [
        {
          "output_type": "execute_result",
          "data": {
            "text/plain": [
              "'./train/SEM/Depth_140/site_00481/SEM_000135.png'"
            ],
            "application/vnd.google.colaboratory.intrinsic+json": {
              "type": "string"
            }
          },
          "metadata": {},
          "execution_count": 54
        }
      ]
    },
    {
      "cell_type": "code",
      "source": [
        "# 중복 확인을 위해 set 설정 후 갯수 측정\n",
        "len(set(Train_List))"
      ],
      "metadata": {
        "colab": {
          "base_uri": "https://localhost:8080/"
        },
        "id": "p9XNP9vUFbwt",
        "outputId": "50483a45-3b45-4367-be45-ab0249dfc2c8"
      },
      "execution_count": null,
      "outputs": [
        {
          "output_type": "execute_result",
          "data": {
            "text/plain": [
              "60665"
            ]
          },
          "metadata": {},
          "execution_count": 55
        }
      ]
    },
    {
      "cell_type": "code",
      "source": [
        "# 숫자 이상한 경우 찾아서 빼주기\n",
        "for List in Train_List:\n",
        "  if List.find('.ipynb') != -1:\n",
        "    idx = Train_List.index(List)\n",
        "    print(idx)\n",
        "    print(List)\n",
        "    Train_List.remove(List)\n",
        "    Train_Data.pop(idx)\n",
        "    Y_train_List.pop(idx)"
      ],
      "metadata": {
        "colab": {
          "base_uri": "https://localhost:8080/"
        },
        "id": "HMlgcSdET9BU",
        "outputId": "b06fc8a2-5a48-492b-9220-105fe2d8b7ab"
      },
      "execution_count": null,
      "outputs": [
        {
          "output_type": "stream",
          "name": "stdout",
          "text": [
            "32281\n",
            "./train/SEM/Depth_140/site_00000/.ipynb_checkpoints/SEM_000165-checkpoint.png\n"
          ]
        }
      ]
    },
    {
      "cell_type": "code",
      "source": [
        "for i in range(10):\n",
        "  cv2_imshow(Train_Data[i])"
      ],
      "metadata": {
        "id": "AYRDxcirFvEE",
        "colab": {
          "base_uri": "https://localhost:8080/",
          "height": 737
        },
        "outputId": "03516f1c-85bc-4106-bf49-9b87e91a916c"
      },
      "execution_count": null,
      "outputs": [
        {
          "output_type": "display_data",
          "data": {
            "text/plain": [
              "<PIL.Image.Image image mode=RGB size=48x72 at 0x7F975A117A50>"
            ],
            "image/png": "[encoded data removed]"
          },
          "metadata": {}
        },
        {
          "output_type": "display_data",
          "data": {
            "text/plain": [
              "<PIL.Image.Image image mode=RGB size=48x72 at 0x7F97D8F6B8D0>"
            ],
            "image/png": "[encoded data removed]"
          },
          "metadata": {}
        },
        {
          "output_type": "display_data",
          "data": {
            "text/plain": [
              "<PIL.Image.Image image mode=RGB size=48x72 at 0x7F975A139C90>"
            ],
            "image/png": "[encoded data removed]"
          },
          "metadata": {}
        },
        {
          "output_type": "display_data",
          "data": {
            "text/plain": [
              "<PIL.Image.Image image mode=RGB size=48x72 at 0x7F975A6DC1D0>"
            ],
            "image/png": "[encoded data removed]"
          },
          "metadata": {}
        },
        {
          "output_type": "display_data",
          "data": {
            "text/plain": [
              "<PIL.Image.Image image mode=RGB size=48x72 at 0x7F975A1A2490>"
            ],
            "image/png": "[encoded data removed]"
          },
          "metadata": {}
        },
        {
          "output_type": "display_data",
          "data": {
            "text/plain": [
              "<PIL.Image.Image image mode=RGB size=48x72 at 0x7F975A139C90>"
            ],
            "image/png": "[encoded data removed]"
          },
          "metadata": {}
        },
        {
          "output_type": "display_data",
          "data": {
            "text/plain": [
              "<PIL.Image.Image image mode=RGB size=48x72 at 0x7F975A1A2490>"
            ],
            "image/png": "[encoded data removed]"
          },
          "metadata": {}
        },
        {
          "output_type": "display_data",
          "data": {
            "text/plain": [
              "<PIL.Image.Image image mode=RGB size=48x72 at 0x7F975A139C90>"
            ],
            "image/png": "[encoded data removed]"
          },
          "metadata": {}
        },
        {
          "output_type": "display_data",
          "data": {
            "text/plain": [
              "<PIL.Image.Image image mode=RGB size=48x72 at 0x7F975A6DC1D0>"
            ],
            "image/png": "[encoded data removed]"
          },
          "metadata": {}
        },
        {
          "output_type": "display_data",
          "data": {
            "text/plain": [
              "<PIL.Image.Image image mode=RGB size=48x72 at 0x7F975A1A2410>"
            ],
            "image/png": "[encoded data removed]"
          },
          "metadata": {}
        }
      ]
    },
    {
      "cell_type": "code",
      "source": [
        "X_train = np.array(Train_Data)"
      ],
      "metadata": {
        "id": "oQA3Fs8UHbjn"
      },
      "execution_count": null,
      "outputs": []
    },
    {
      "cell_type": "code",
      "source": [
        "X_train.shape"
      ],
      "metadata": {
        "id": "Rwxck-wOJsau"
      },
      "execution_count": null,
      "outputs": []
    },
    {
      "cell_type": "code",
      "source": [
        "len(Y_train_List)"
      ],
      "metadata": {
        "id": "xKbzyzdNXidI"
      },
      "execution_count": null,
      "outputs": []
    },
    {
      "cell_type": "code",
      "source": [
        "# categorical로 판별하기 위해 숫자 바꿔주기\n",
        "#labeldict = {0:110, 1:120, 2:130, 3:140}\n",
        "#reversedict = {110:0, 120:1, 130:2, 140:3}\n",
        "#y_train = pd.read_csv(\"./train/average_depth.csv\")\n",
        "#y_train = y_train.sort_values(by=\"0\",ascending = True)\n",
        "#y_train[\"target\"] = 0\n",
        "#for i in range(len(y_train)):\n",
        "#  temp = y_train[\"0\"][i][6:9]\n",
        "#  temp = int(temp)\n",
        "#  y_train[\"target\"][i] = reversedict[temp]\n",
        "\n",
        "#y_train[\"target\"].astype(\"float\")"
      ],
      "metadata": {
        "id": "zNPOnzIuLINC"
      },
      "execution_count": null,
      "outputs": []
    },
    {
      "cell_type": "code",
      "source": [
        "df = pd.DataFrame({'0':Y_train_List})"
      ],
      "metadata": {
        "id": "ZOf5KhTXc9ZS"
      },
      "execution_count": null,
      "outputs": []
    },
    {
      "cell_type": "code",
      "source": [
        "df['0']"
      ],
      "metadata": {
        "id": "U-fCq4jPfKD9"
      },
      "execution_count": null,
      "outputs": []
    },
    {
      "cell_type": "code",
      "source": [
        "# labeling 함수 \n",
        "def labeling(x):\n",
        "  for depth in [\"110\", \"120\", \"130\", \"140\"]:\n",
        "    if x[18:21] == depth:\n",
        "      x = depth[1]\n",
        "  return x"
      ],
      "metadata": {
        "id": "MzkVPSknOmjW"
      },
      "execution_count": null,
      "outputs": []
    },
    {
      "cell_type": "code",
      "source": [
        "df['label'] = df['0'].apply(labeling)\n",
        "df['label'] = df['label'].astype('float')\n",
        "df['label'] -=1"
      ],
      "metadata": {
        "id": "3TKNhpAmfS8E"
      },
      "execution_count": null,
      "outputs": []
    },
    {
      "cell_type": "code",
      "source": [
        "df['label'].value_counts()"
      ],
      "metadata": {
        "id": "ci8t0HYvlaLF",
        "colab": {
          "base_uri": "https://localhost:8080/"
        },
        "outputId": "7d4b2bc7-6fcf-4cad-a2a7-de67eb23cbcb"
      },
      "execution_count": null,
      "outputs": [
        {
          "output_type": "execute_result",
          "data": {
            "text/plain": [
              "2.0    15166\n",
              "0.0    15166\n",
              "3.0    15166\n",
              "1.0    15166\n",
              "Name: label, dtype: int64"
            ]
          },
          "metadata": {},
          "execution_count": 42
        }
      ]
    },
    {
      "cell_type": "code",
      "source": [
        "# 간단한 모델 구현\n",
        "model = Sequential()\n",
        "model.add(Conv2D(32,3, input_shape = (72,48,3)))\n",
        "model.add(MaxPool2D())\n",
        "model.add(Flatten())\n",
        "model.add(Dense(100,activation = 'relu'))\n",
        "model.add(Dense(4,activation = 'softmax'))\n",
        "\n",
        "model.summary()"
      ],
      "metadata": {
        "id": "fCa_0cRZI3LH",
        "colab": {
          "base_uri": "https://localhost:8080/"
        },
        "outputId": "157fbfe8-09ff-4d0b-ba8c-c230b9662321"
      },
      "execution_count": null,
      "outputs": [
        {
          "output_type": "stream",
          "name": "stdout",
          "text": [
            "Model: \"sequential_2\"\n",
            "_________________________________________________________________\n",
            " Layer (type)                Output Shape              Param #   \n",
            "=================================================================\n",
            " conv2d_2 (Conv2D)           (None, 70, 46, 32)        896       \n",
            "                                                                 \n",
            " max_pooling2d_2 (MaxPooling  (None, 35, 23, 32)       0         \n",
            " 2D)                                                             \n",
            "                                                                 \n",
            " flatten_2 (Flatten)         (None, 25760)             0         \n",
            "                                                                 \n",
            " dense_4 (Dense)             (None, 100)               2576100   \n",
            "                                                                 \n",
            " dense_5 (Dense)             (None, 4)                 404       \n",
            "                                                                 \n",
            "=================================================================\n",
            "Total params: 2,577,400\n",
            "Trainable params: 2,577,400\n",
            "Non-trainable params: 0\n",
            "_________________________________________________________________\n"
          ]
        }
      ]
    },
    {
      "cell_type": "code",
      "source": [
        "# loss, optimizer, metrics 정함\n",
        "model.compile(optimizer = tf.keras.optimizers.Adam(learning_rate = 1e-6), loss = 'categorical_crossentropy', metrics = ['accuracy','RootMeanSquaredError'])"
      ],
      "metadata": {
        "id": "1ZENmc-MJYVn"
      },
      "execution_count": null,
      "outputs": []
    },
    {
      "cell_type": "code",
      "source": [
        "Y_train = df[\"label\"].values"
      ],
      "metadata": {
        "id": "Tlzoi5qNttpm"
      },
      "execution_count": null,
      "outputs": []
    },
    {
      "cell_type": "code",
      "source": [
        "#Y_train = y_train[\"target\"].values"
      ],
      "metadata": {
        "id": "1_tSMSdfYD0x"
      },
      "execution_count": null,
      "outputs": []
    },
    {
      "cell_type": "code",
      "source": [
        "#print(Y_train)"
      ],
      "metadata": {
        "id": "fzKO3DqAYK1F"
      },
      "execution_count": null,
      "outputs": []
    },
    {
      "cell_type": "code",
      "source": [
        "y_train= tf.keras.utils.to_categorical(Y_train,num_classes = 4)\n",
        "print(y_train.shape)"
      ],
      "metadata": {
        "id": "FNRUUjjUVJw6",
        "colab": {
          "base_uri": "https://localhost:8080/"
        },
        "outputId": "155046b2-efa2-4d9a-b045-29f257fe150b"
      },
      "execution_count": null,
      "outputs": [
        {
          "output_type": "stream",
          "name": "stdout",
          "text": [
            "(60664, 4)\n"
          ]
        }
      ]
    },
    {
      "cell_type": "code",
      "source": [
        "type(y_train)"
      ],
      "metadata": {
        "id": "nj-zzEOgVEpt"
      },
      "execution_count": null,
      "outputs": []
    },
    {
      "cell_type": "code",
      "source": [
        "hist = model.fit(X_train,y_train, epochs = 10, validation_split = 0.2)"
      ],
      "metadata": {
        "id": "qIJxM7KyJRQL",
        "colab": {
          "base_uri": "https://localhost:8080/"
        },
        "outputId": "269f8337-79d9-45dd-cd02-1f5b9ec02374"
      },
      "execution_count": null,
      "outputs": [
        {
          "output_type": "stream",
          "name": "stdout",
          "text": [
            "Epoch 1/10\n",
            "1517/1517 [==============================] - 78s 51ms/step - loss: 0.9538 - accuracy: 0.7283 - root_mean_squared_error: 0.3238 - val_loss: 4.4232 - val_accuracy: 0.0671 - val_root_mean_squared_error: 0.6221\n",
            "Epoch 2/10\n",
            "1517/1517 [==============================] - 80s 52ms/step - loss: 0.6753 - accuracy: 0.7920 - root_mean_squared_error: 0.2831 - val_loss: 2.2694 - val_accuracy: 0.2899 - val_root_mean_squared_error: 0.5165\n",
            "Epoch 3/10\n",
            "1517/1517 [==============================] - 79s 52ms/step - loss: 0.5800 - accuracy: 0.8200 - root_mean_squared_error: 0.2643 - val_loss: 2.0818 - val_accuracy: 0.3175 - val_root_mean_squared_error: 0.5090\n",
            "Epoch 4/10\n",
            "1517/1517 [==============================] - 79s 52ms/step - loss: 0.5090 - accuracy: 0.8366 - root_mean_squared_error: 0.2501 - val_loss: 3.1339 - val_accuracy: 0.1472 - val_root_mean_squared_error: 0.5828\n",
            "Epoch 5/10\n",
            "1517/1517 [==============================] - 78s 52ms/step - loss: 0.4830 - accuracy: 0.8473 - root_mean_squared_error: 0.2429 - val_loss: 1.5515 - val_accuracy: 0.4597 - val_root_mean_squared_error: 0.4525\n",
            "Epoch 6/10\n",
            "1517/1517 [==============================] - 79s 52ms/step - loss: 0.4523 - accuracy: 0.8565 - root_mean_squared_error: 0.2350 - val_loss: 2.5740 - val_accuracy: 0.2327 - val_root_mean_squared_error: 0.5457\n",
            "Epoch 7/10\n",
            "1517/1517 [==============================] - 82s 54ms/step - loss: 0.4412 - accuracy: 0.8613 - root_mean_squared_error: 0.2316 - val_loss: 1.8087 - val_accuracy: 0.4119 - val_root_mean_squared_error: 0.4734\n",
            "Epoch 8/10\n",
            "1517/1517 [==============================] - 84s 56ms/step - loss: 0.4271 - accuracy: 0.8650 - root_mean_squared_error: 0.2279 - val_loss: 1.8841 - val_accuracy: 0.3967 - val_root_mean_squared_error: 0.4794\n",
            "Epoch 9/10\n",
            "1517/1517 [==============================] - 87s 58ms/step - loss: 0.4044 - accuracy: 0.8732 - root_mean_squared_error: 0.2213 - val_loss: 2.0836 - val_accuracy: 0.3413 - val_root_mean_squared_error: 0.5080\n",
            "Epoch 10/10\n",
            "1517/1517 [==============================] - 78s 51ms/step - loss: 0.4073 - accuracy: 0.8736 - root_mean_squared_error: 0.2215 - val_loss: 1.7393 - val_accuracy: 0.4351 - val_root_mean_squared_error: 0.4655\n"
          ]
        }
      ]
    },
    {
      "cell_type": "code",
      "source": [
        "# accuracy, loss 그래프\n",
        "def acc_graph(history):  \n",
        "  acc = history.history['accuracy']                                             # loss = history.history['loss']\n",
        "  val_acc = history.history['val_accuracy']                                     # val_loss = history.history['val_loss']\n",
        " \n",
        "  plt.figure(figsize=(8, 8))\n",
        "  plt.subplot(2, 1, 1)\n",
        "  plt.plot(acc, label='Train Accuracy')\n",
        "  plt.plot(val_acc, label='Val Accuracy')\n",
        "  plt.text(len(acc)-2, val_acc[-1], f'{val_acc[-1]:.4f}')   # 최종 acc\n",
        "  plt.legend(loc='lower right')\n",
        "  plt.ylabel('Accuracy')\n",
        "  plt.ylim([min(plt.ylim()),max(plt.ylim())])       # [최소, 최대]\n",
        "  plt.title('Train and Val Accuracy')\n",
        "\n",
        "  loss = history.history['loss']                                             # loss = history.history['loss']\n",
        "  val_loss = history.history['val_loss']                                     # val_loss = history.history['val_loss']\n",
        " \n",
        "  plt.figure(figsize=(8, 8))\n",
        "  plt.subplot(2, 1, 2)\n",
        "  plt.plot(loss, label='Train Loss')\n",
        "  plt.plot(val_loss, label='Val Loss')\n",
        "  plt.text(len(loss)-2, val_loss[-1], f'{val_loss[-1]:.4f}')   # 최종 acc\n",
        "  plt.legend(loc='lower right')\n",
        "  plt.ylabel('Loss')\n",
        "  plt.ylim([min(plt.ylim()),max(plt.ylim())])       # [최소, 최대]\n",
        "  plt.title('Train and Val Loss')"
      ],
      "metadata": {
        "id": "tJWPZQTay7Bb"
      },
      "execution_count": null,
      "outputs": []
    },
    {
      "cell_type": "code",
      "source": [
        "acc_graph(hist)"
      ],
      "metadata": {
        "id": "SwgliILMz1uL",
        "colab": {
          "base_uri": "https://localhost:8080/",
          "height": 507
        },
        "outputId": "0eba5f0b-b83b-4c88-d547-3b11a14c6ea4"
      },
      "execution_count": null,
      "outputs": [
        {
          "output_type": "display_data",
          "data": {
            "text/plain": [
              "<Figure size 576x576 with 1 Axes>"
            ],
            "image/png": "[encoded data removed]"
          },
          "metadata": {
            "needs_background": "light"
          }
        },
        {
          "output_type": "display_data",
          "data": {
            "text/plain": [
              "<Figure size 576x576 with 1 Axes>"
            ],
            "image/png": "[encoded data removed]"
          },
          "metadata": {
            "needs_background": "light"
          }
        }
      ]
    },
    {
      "cell_type": "code",
      "source": [
        "## log_transform으로 전처리된 X_train 학습시키기\n",
        "\n",
        "#X_train_log = getlogtf(X_train)\n",
        "\n",
        "#hist_log = model.fit(X_train_log, y_train, epochs = 20, validation_split = 0.2)\n",
        "\n",
        "#acc_graph(hist_log)"
      ],
      "metadata": {
        "id": "mj_-XFWV2tyi"
      },
      "execution_count": null,
      "outputs": []
    },
    {
      "cell_type": "code",
      "source": [
        "## gamma_transform으로 전처리된 X_train 학습시키기\n",
        "\n",
        "#X_train_gamma = getgammatf(X_train)\n",
        "\n",
        "#hist_gamma = model.fit(X_train_gamma, y_train, epochs = 20, validation_split = 0.2)\n",
        "\n",
        "#acc_graph(hist_gamma)"
      ],
      "metadata": {
        "id": "dDrq-l_G5VlQ"
      },
      "execution_count": null,
      "outputs": []
    },
    {
      "cell_type": "code",
      "source": [
        "## Fourier_transform으로 전처리된 X_train 학습시키기\n",
        "\n",
        "#X_train_fourier = getftf(X_train)\n",
        "\n",
        "#hist_fourier = model.fit(X_train_fourier, y_train, epochs = 20, validation_split = 0.2)\n",
        "\n",
        "#acc_graph(hist_fourier)"
      ],
      "metadata": {
        "id": "ubtOh_lu5g_B"
      },
      "execution_count": null,
      "outputs": []
    },
    {
      "cell_type": "code",
      "source": [
        "## Clahe_transform으로 전처리된 X_train 학습시키기\n",
        "\n",
        "#X_train_clahe = getclahe(X_train)\n",
        "\n",
        "#hist_clahe = model.fit(X_train_clahe, y_train, epochs = 20, validation_split = 0.2)\n",
        "\n",
        "#acc_graph(hist_clahe)"
      ],
      "metadata": {
        "id": "13XogxS35v2Y"
      },
      "execution_count": null,
      "outputs": []
    },
    {
      "cell_type": "markdown",
      "source": [
        "### 기본적인 것이 오히려 전처리를 사용한 것보다 성능이 좋지 않아 전이학습을 통한 성능향상으로 방향을 바꾸기로 했다."
      ],
      "metadata": {
        "id": "KJAVSShMIz2E"
      }
    }
  ]
}